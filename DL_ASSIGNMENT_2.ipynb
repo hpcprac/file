{
  "cells": [
    {
      "cell_type": "code",
      "execution_count": null,
      "id": "ea7679d7",
      "metadata": {
        "id": "ea7679d7"
      },
      "outputs": [],
      "source": [
        "\n",
        "%matplotlib inline\n",
        "import matplotlib\n",
        "import matplotlib.pyplot as plt\n",
        "import numpy as np\n",
        "from keras.utils import to_categorical\n",
        "from keras import models\n",
        "from keras import layers"
      ]
    },
    {
      "cell_type": "code",
      "execution_count": null,
      "id": "5e9dc96e",
      "metadata": {
        "colab": {
          "base_uri": "https://localhost:8080/"
        },
        "id": "5e9dc96e",
        "outputId": "f724cea2-0684-44ac-f696-4a79cda211bf"
      },
      "outputs": [
        {
          "output_type": "stream",
          "name": "stdout",
          "text": [
            "Downloading data from https://storage.googleapis.com/tensorflow/tf-keras-datasets/imdb.npz\n",
            "17464789/17464789 [==============================] - 0s 0us/step\n"
          ]
        }
      ],
      "source": [
        "#Downloading the IMDB dataset\n",
        "from keras.datasets import imdb\n",
        "(training_data, training_targets),(testing_data,testing_targets)=imdb.load_data(num_words=10000)\n",
        "data=np.concatenate((training_data,testing_data),axis=0)\n",
        "targets=np.concatenate((training_targets,testing_targets),axis=0)"
      ]
    },
    {
      "cell_type": "code",
      "execution_count": null,
      "id": "037b5357",
      "metadata": {
        "colab": {
          "base_uri": "https://localhost:8080/"
        },
        "id": "037b5357",
        "outputId": "ce38391f-75d5-4515-84d6-c74b771a1d5c"
      },
      "outputs": [
        {
          "output_type": "stream",
          "name": "stdout",
          "text": [
            "Categories: [0 1]\n",
            "Number of unique words: 9998\n"
          ]
        }
      ],
      "source": [
        "#Explore the data\n",
        "print(\"Categories:\",np.unique(targets))\n",
        "print(\"Number of unique words:\", len(np.unique(np.hstack(data))))"
      ]
    },
    {
      "cell_type": "code",
      "execution_count": null,
      "id": "c410f404",
      "metadata": {
        "colab": {
          "base_uri": "https://localhost:8080/"
        },
        "id": "c410f404",
        "outputId": "be9888d6-eb88-4709-834d-8ace34fdf44d"
      },
      "outputs": [
        {
          "output_type": "stream",
          "name": "stdout",
          "text": [
            "Average Review length: 234.75892\n",
            "Standard Deviation: 173\n"
          ]
        }
      ],
      "source": [
        "length=[len(i) for i in data]\n",
        "print(\"Average Review length:\", np.mean(length))\n",
        "print(\"Standard Deviation:\",round(np.std(length)))\n"
      ]
    },
    {
      "cell_type": "code",
      "execution_count": null,
      "id": "46802e7e",
      "metadata": {
        "colab": {
          "base_uri": "https://localhost:8080/"
        },
        "id": "46802e7e",
        "outputId": "0daef726-1896-4424-80ee-e552e618db0a"
      },
      "outputs": [
        {
          "output_type": "stream",
          "name": "stdout",
          "text": [
            "Label: 1\n"
          ]
        }
      ],
      "source": [
        "#Single training example\n",
        "print(\"Label:\",targets[0])"
      ]
    },
    {
      "cell_type": "code",
      "execution_count": null,
      "id": "82fce95f",
      "metadata": {
        "colab": {
          "base_uri": "https://localhost:8080/"
        },
        "id": "82fce95f",
        "outputId": "98056f6c-cb1b-4700-d72a-168918711a63"
      },
      "outputs": [
        {
          "output_type": "stream",
          "name": "stdout",
          "text": [
            "[1, 14, 22, 16, 43, 530, 973, 1622, 1385, 65, 458, 4468, 66, 3941, 4, 173, 36, 256, 5, 25, 100, 43, 838, 112, 50, 670, 2, 9, 35, 480, 284, 5, 150, 4, 172, 112, 167, 2, 336, 385, 39, 4, 172, 4536, 1111, 17, 546, 38, 13, 447, 4, 192, 50, 16, 6, 147, 2025, 19, 14, 22, 4, 1920, 4613, 469, 4, 22, 71, 87, 12, 16, 43, 530, 38, 76, 15, 13, 1247, 4, 22, 17, 515, 17, 12, 16, 626, 18, 2, 5, 62, 386, 12, 8, 316, 8, 106, 5, 4, 2223, 5244, 16, 480, 66, 3785, 33, 4, 130, 12, 16, 38, 619, 5, 25, 124, 51, 36, 135, 48, 25, 1415, 33, 6, 22, 12, 215, 28, 77, 52, 5, 14, 407, 16, 82, 2, 8, 4, 107, 117, 5952, 15, 256, 4, 2, 7, 3766, 5, 723, 36, 71, 43, 530, 476, 26, 400, 317, 46, 7, 4, 2, 1029, 13, 104, 88, 4, 381, 15, 297, 98, 32, 2071, 56, 26, 141, 6, 194, 7486, 18, 4, 226, 22, 21, 134, 476, 26, 480, 5, 144, 30, 5535, 18, 51, 36, 28, 224, 92, 25, 104, 4, 226, 65, 16, 38, 1334, 88, 12, 16, 283, 5, 16, 4472, 113, 103, 32, 15, 16, 5345, 19, 178, 32]\n"
          ]
        }
      ],
      "source": [
        "print(data[0])"
      ]
    },
    {
      "cell_type": "code",
      "execution_count": null,
      "id": "7c70c387",
      "metadata": {
        "colab": {
          "base_uri": "https://localhost:8080/"
        },
        "id": "7c70c387",
        "outputId": "ddd5b1b4-afd3-46dd-bc76-6d1d592c6923"
      },
      "outputs": [
        {
          "output_type": "stream",
          "name": "stdout",
          "text": [
            "Downloading data from https://storage.googleapis.com/tensorflow/tf-keras-datasets/imdb_word_index.json\n",
            "1641221/1641221 [==============================] - 0s 0us/step\n",
            "# this film was just brilliant casting location scenery story direction everyone's really suited the part they played and you could just imagine being there robert # is an amazing actor and now the same being director # father came from the same scottish island as myself so i loved the fact there was a real connection with this film the witty remarks throughout the film were great it was just brilliant so much that i bought the film as soon as it was released for # and would recommend it to everyone to watch and the fly fishing was amazing really cried at the end it was so sad and you know what they say if you cry at a film it must have been good and this definitely was also # to the two little boy's that played the # of norman and paul they were just brilliant children are often left out of the # list i think because the stars that play them all grown up are such a big profile for the whole film but these children are amazing and should be praised for what they have done don't you think the whole story was so lovely because it was true and was someone's life after all that was shared with us all\n"
          ]
        }
      ],
      "source": [
        "#Retrieves the dictionary mapping word indices back into original words\n",
        "index=imdb.get_word_index()\n",
        "reverse_index=dict([(value,key) for (key,value) in index.items()])\n",
        "decoded=\" \".join([reverse_index.get(i-3,\"#\") for i in data[0]])\n",
        "print(decoded)"
      ]
    },
    {
      "cell_type": "code",
      "execution_count": null,
      "id": "7fd2b19c",
      "metadata": {
        "id": "7fd2b19c"
      },
      "outputs": [],
      "source": [
        "#Data Preparation\n",
        "def vectorize(sequences,dimension=10000):\n",
        "    results=np.zeros((len(sequences),dimension))\n",
        "    for i, sequence in enumerate(sequences):\n",
        "        results[i,sequence]=1\n",
        "    return results\n",
        "\n",
        "data=vectorize(data)\n",
        "targets=np.array(targets).astype(\"float32\")"
      ]
    },
    {
      "cell_type": "code",
      "execution_count": null,
      "id": "7c830592",
      "metadata": {
        "id": "7c830592"
      },
      "outputs": [],
      "source": [
        "#Split data into training and testing set\n",
        "test_x = data[:10000]\n",
        "test_y = targets[:10000]\n",
        "train_x = data[10000:]\n",
        "train_y = targets[10000:]"
      ]
    },
    {
      "cell_type": "code",
      "execution_count": null,
      "id": "d728116d",
      "metadata": {
        "colab": {
          "base_uri": "https://localhost:8080/"
        },
        "id": "d728116d",
        "outputId": "a84f5120-d861-4664-b35d-b025a3ee592f"
      },
      "outputs": [
        {
          "output_type": "stream",
          "name": "stdout",
          "text": [
            "Model: \"sequential\"\n",
            "_________________________________________________________________\n",
            " Layer (type)                Output Shape              Param #   \n",
            "=================================================================\n",
            " dense (Dense)               (None, 50)                500050    \n",
            "                                                                 \n",
            " dropout (Dropout)           (None, 50)                0         \n",
            "                                                                 \n",
            " dense_1 (Dense)             (None, 50)                2550      \n",
            "                                                                 \n",
            " dropout_1 (Dropout)         (None, 50)                0         \n",
            "                                                                 \n",
            " dense_2 (Dense)             (None, 50)                2550      \n",
            "                                                                 \n",
            " dense_3 (Dense)             (None, 1)                 51        \n",
            "                                                                 \n",
            "=================================================================\n",
            "Total params: 505,201\n",
            "Trainable params: 505,201\n",
            "Non-trainable params: 0\n",
            "_________________________________________________________________\n"
          ]
        }
      ],
      "source": [
        "#Building and Training the model\n",
        "model = models.Sequential()\n",
        "# Input - Layer\n",
        "model.add(layers.Dense(50, activation = \"relu\", input_shape=(10000, )))\n",
        "# Hidden - Layers\n",
        "model.add(layers.Dropout(0.3, noise_shape=None, seed=None))\n",
        "model.add(layers.Dense(50, activation = \"relu\"))\n",
        "model.add(layers.Dropout(0.2, noise_shape=None, seed=None))\n",
        "model.add(layers.Dense(50, activation = \"relu\"))\n",
        "# Output- Layer\n",
        "model.add(layers.Dense(1, activation = \"sigmoid\"))\n",
        "model.summary()\n"
      ]
    },
    {
      "cell_type": "code",
      "execution_count": null,
      "id": "bbe155ba",
      "metadata": {
        "id": "bbe155ba"
      },
      "outputs": [],
      "source": [
        "#Compile the model\n",
        "model.compile(\n",
        "optimizer = \"adam\",\n",
        "loss = \"binary_crossentropy\",\n",
        "metrics = [\"accuracy\"]\n",
        ")"
      ]
    },
    {
      "cell_type": "code",
      "execution_count": null,
      "id": "56731a43",
      "metadata": {
        "colab": {
          "base_uri": "https://localhost:8080/"
        },
        "id": "56731a43",
        "outputId": "83a15c2e-ca9c-4dfa-bd50-c139009b6f73"
      },
      "outputs": [
        {
          "output_type": "stream",
          "name": "stdout",
          "text": [
            "Epoch 1/2\n",
            "80/80 [==============================] - 4s 40ms/step - loss: 0.4286 - accuracy: 0.8067 - val_loss: 0.2682 - val_accuracy: 0.8916\n",
            "Epoch 2/2\n",
            "80/80 [==============================] - 3s 33ms/step - loss: 0.2204 - accuracy: 0.9153 - val_loss: 0.2644 - val_accuracy: 0.8931\n"
          ]
        }
      ],
      "source": [
        "#Batch size and epochs\n",
        "results = model.fit(\n",
        "train_x, train_y,\n",
        "epochs= 2,\n",
        "batch_size = 500,\n",
        "validation_data = (test_x, test_y)\n",
        ")"
      ]
    },
    {
      "cell_type": "code",
      "execution_count": null,
      "id": "f17e7489",
      "metadata": {
        "colab": {
          "base_uri": "https://localhost:8080/"
        },
        "id": "f17e7489",
        "outputId": "917a9c48-284b-42a0-ef93-aed983f64ba4"
      },
      "outputs": [
        {
          "output_type": "stream",
          "name": "stdout",
          "text": [
            "0.8923500180244446\n"
          ]
        }
      ],
      "source": [
        "#Evaluate the model\n",
        "print(np.mean(results.history[\"val_accuracy\"]))"
      ]
    },
    {
      "cell_type": "code",
      "execution_count": null,
      "id": "02857596",
      "metadata": {
        "id": "02857596"
      },
      "outputs": [],
      "source": []
    }
  ],
  "metadata": {
    "kernelspec": {
      "display_name": "Python 3 (ipykernel)",
      "language": "python",
      "name": "python3"
    },
    "language_info": {
      "codemirror_mode": {
        "name": "ipython",
        "version": 3
      },
      "file_extension": ".py",
      "mimetype": "text/x-python",
      "name": "python",
      "nbconvert_exporter": "python",
      "pygments_lexer": "ipython3",
      "version": "3.9.16"
    },
    "colab": {
      "provenance": []
    }
  },
  "nbformat": 4,
  "nbformat_minor": 5
}